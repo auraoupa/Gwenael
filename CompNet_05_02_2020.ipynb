{
 "cells": [
  {
   "cell_type": "code",
   "execution_count": 1,
   "metadata": {
    "colab": {
     "base_uri": "https://localhost:8080/",
     "height": 190
    },
    "colab_type": "code",
    "id": "OdIQ93_ZSgmo",
    "outputId": "5e81b22a-67cc-48e5-dbf9-ec7b65d2e8b9"
   },
   "outputs": [
    {
     "name": "stdout",
     "output_type": "stream",
     "text": [
      "Collecting netCDF4\n",
      "\u001b[?25l  Downloading https://files.pythonhosted.org/packages/35/4f/d49fe0c65dea4d2ebfdc602d3e3d2a45a172255c151f4497c43f6d94a5f6/netCDF4-1.5.3-cp36-cp36m-manylinux1_x86_64.whl (4.1MB)\n",
      "\u001b[K     |████████████████████████████████| 4.1MB 2.9MB/s \n",
      "\u001b[?25hCollecting cftime\n",
      "\u001b[?25l  Downloading https://files.pythonhosted.org/packages/d7/20/15fd894e64f14d6b8afa1cd6dd833c1ea85d1cedb46fdba2d9f8fbc3a924/cftime-1.0.4.2-cp36-cp36m-manylinux1_x86_64.whl (308kB)\n",
      "\u001b[K     |████████████████████████████████| 317kB 33.1MB/s \n",
      "\u001b[?25hRequirement already satisfied: numpy>=1.7 in /usr/local/lib/python3.6/dist-packages (from netCDF4) (1.17.5)\n",
      "Installing collected packages: cftime, netCDF4\n",
      "Successfully installed cftime-1.0.4.2 netCDF4-1.5.3\n"
     ]
    }
   ],
   "source": [
    "!pip install netCDF4\n",
    "import numpy as np\n",
    "import itertools\n",
    "\n",
    "from scipy import linalg\n",
    "import matplotlib.pyplot as plt\n",
    "import matplotlib as mpl\n",
    "\n",
    "from sklearn import mixture\n",
    "from sklearn.linear_model import LinearRegression\n",
    "\n",
    "import netCDF4\n",
    "from netCDF4 import Dataset\n",
    "import pathlib\n",
    "\n",
    "\n",
    "import numpy as np\n",
    "import pandas as pd\n",
    "import seaborn as sns\n",
    "\n",
    "#import tensorflow as tf\n",
    "\n",
    "#from tensorflow import keras\n",
    "#from tensorflow.keras import layers\n",
    "\n",
    "#import tensorflow_docs as tfdocs\n",
    "#import tensorflow_docs.plots\n",
    "#import tensorflow_docs.modeling\n",
    "import xarray as xr\n",
    "\n",
    "import torch\n",
    "import torch.nn as nn\n",
    "import torch.nn.functional as f\n",
    "\n",
    "from datetime import date\n",
    "import datetime"
   ]
  },
  {
   "cell_type": "code",
   "execution_count": 0,
   "metadata": {
    "colab": {},
    "colab_type": "code",
    "id": "qHcChI3y1GmD"
   },
   "outputs": [],
   "source": [
    "from sklearn import datasets, linear_model\n",
    "from sklearn.metrics import mean_squared_error, r2_score\n",
    "from sklearn.neural_network import MLPRegressor\n",
    "from time import time\n",
    "from sklearn.model_selection import train_test_split\n",
    "from sklearn.preprocessing import QuantileTransformer\n",
    "from sklearn.pipeline import make_pipeline\n",
    "\n",
    "from sklearn.inspection import partial_dependence\n",
    "from sklearn.inspection import plot_partial_dependence\n",
    "from sklearn.experimental import enable_hist_gradient_boosting  # noqa\n",
    "from sklearn.ensemble import HistGradientBoostingRegressor\n",
    "\n",
    "from torch.autograd import Variable"
   ]
  },
  {
   "cell_type": "markdown",
   "metadata": {
    "colab_type": "text",
    "id": "diEeNZm859Zt"
   },
   "source": [
    "# Functions"
   ]
  },
  {
   "cell_type": "markdown",
   "metadata": {
    "colab_type": "text",
    "id": "gyIC3depPUvY"
   },
   "source": [
    "#ResNet implementation\n"
   ]
  },
  {
   "cell_type": "code",
   "execution_count": 0,
   "metadata": {
    "colab": {},
    "colab_type": "code",
    "id": "hYhu-_qaSgnJ"
   },
   "outputs": [],
   "source": [
    "def conv3x3(in_channels, out_channels, stride=1):\n",
    "    return nn.Conv2d(in_channels, out_channels, kernel_size=3,\n",
    "                    stride=stride, padding=1, bias=False)\n",
    "\n",
    "\n",
    "# Residual block\n",
    "class ResidualBlock(nn.Module):\n",
    "    def __init__(self, in_channels, out_channels, stride=1, downsample=None):\n",
    "        super(ResidualBlock, self).__init__()\n",
    "        self.conv1 = conv3x3(in_channels, out_channels, stride)\n",
    "        self.bn1 = nn.BatchNorm2d(out_channels)\n",
    "        self.relu = nn.ReLU(inplace=True)\n",
    "        self.conv2 = conv3x3(out_channels, out_channels)\n",
    "        self.bn2 = nn.BatchNorm2d(out_channels)\n",
    "        self.downsample = downsample\n",
    "\n",
    "    def forward(self, x):\n",
    "        residual = x\n",
    "        out = self.conv1(x)\n",
    "        out = self.bn1(out)\n",
    "        out = self.relu(out)\n",
    "        out = self.conv2(out)\n",
    "        out = self.bn2(out)\n",
    "        if self.downsample:\n",
    "            residual = self.downsample(x)\n",
    "        out += residual\n",
    "        out = self.relu(out)\n",
    "        return out\n",
    "\n",
    "\n",
    "# ResNet\n",
    "class ResNet(nn.Module):\n",
    "    def __init__(self, block, layers, num_classes=10):\n",
    "        super(ResNet, self).__init__()\n",
    "        self.in_channels = 16\n",
    "        self.conv = conv3x3(1, 16)\n",
    "        self.bn = nn.BatchNorm2d(16)\n",
    "        self.relu = nn.ReLU(inplace=True)\n",
    "        self.layer1 = self.make_layer(block, 16, layers[0])\n",
    "        self.layer2 = self.make_layer(block, 32, layers[0], 2)\n",
    "        self.layer3 = self.make_layer(block, 64, layers[1], 2)\n",
    "        self.avg_pool = nn.AvgPool2d(8)\n",
    "        self.fc = nn.Linear(64, num_classes)\n",
    "\n",
    "    def make_layer(self, block, out_channels, blocks, stride=1):\n",
    "        downsample = None\n",
    "        if (stride != 1) or (self.in_channels != out_channels):\n",
    "            downsample = nn.Sequential(\n",
    "                conv3x3(self.in_channels, out_channels, stride=stride),\n",
    "                nn.BatchNorm2d(out_channels))\n",
    "        layers = []\n",
    "        layers.append(block(self.in_channels, out_channels, stride, downsample))\n",
    "        self.in_channels = out_channels\n",
    "        for i in range(1, blocks):\n",
    "            layers.append(block(out_channels, out_channels))\n",
    "        return nn.Sequential(*layers)\n",
    "\n",
    "    def forward(self, x):\n",
    "        out = self.conv(x)\n",
    "        out = self.bn(out)\n",
    "        out = self.layer1(out)\n",
    "        out = self.layer2(out)\n",
    "        out = self.layer3(out)\n",
    "        out = self.avg_pool(out)\n",
    "        out = out.view(out.size(0), -1)\n",
    "        out = self.fc(out)\n",
    "        return out\n",
    "\n"
   ]
  },
  {
   "cell_type": "code",
   "execution_count": 4,
   "metadata": {
    "colab": {
     "base_uri": "https://localhost:8080/",
     "height": 122
    },
    "colab_type": "code",
    "id": "Pet7xzA2YsdB",
    "outputId": "507e999f-0eb1-429f-f132-b52ba81537ab"
   },
   "outputs": [
    {
     "name": "stdout",
     "output_type": "stream",
     "text": [
      "Go to this URL in a browser: https://accounts.google.com/o/oauth2/auth?client_id=947318989803-6bn6qk8qdgf4n4g3pfee6491hc0brc4i.apps.googleusercontent.com&redirect_uri=urn%3aietf%3awg%3aoauth%3a2.0%3aoob&response_type=code&scope=email%20https%3a%2f%2fwww.googleapis.com%2fauth%2fdocs.test%20https%3a%2f%2fwww.googleapis.com%2fauth%2fdrive%20https%3a%2f%2fwww.googleapis.com%2fauth%2fdrive.photos.readonly%20https%3a%2f%2fwww.googleapis.com%2fauth%2fpeopleapi.readonly\n",
      "\n",
      "Enter your authorization code:\n",
      "··········\n",
      "Mounted at /content/gdrive\n"
     ]
    }
   ],
   "source": [
    "\n",
    "from google.colab import drive\n",
    "drive.mount('/content/gdrive')"
   ]
  },
  {
   "cell_type": "markdown",
   "metadata": {
    "colab_type": "text",
    "id": "gmbZQN66GJs2"
   },
   "source": [
    "# Select the Aghulas region in the dataset (2004 period)\n",
    "\n"
   ]
  },
  {
   "cell_type": "code",
   "execution_count": 5,
   "metadata": {
    "colab": {
     "base_uri": "https://localhost:8080/",
     "height": 663
    },
    "colab_type": "code",
    "id": "i32vHtnab_jI",
    "outputId": "368a8eb6-be0c-45ca-a3b7-161c4cabcd7b"
   },
   "outputs": [
    {
     "name": "stdout",
     "output_type": "stream",
     "text": [
      "Frozen(SortedKeysDict({'lon': 1440, 'lat': 720, 'time': 366}))\n"
     ]
    },
    {
     "data": {
      "text/html": [
       "<pre>&lt;xarray.Dataset&gt;\n",
       "Dimensions:  (lat: 18, lon: 60, time: 366)\n",
       "Coordinates:\n",
       "  * lon      (lon) float32 -178.625 -178.375 -178.125 ... -164.125 -163.875\n",
       "  * lat      (lat) float32 -82.375 -82.125 -81.875 ... -78.625 -78.375 -78.125\n",
       "  * time     (time) datetime64[ns] 2004-01-01T12:00:00 ... 1981-01-01\n",
       "Data variables:\n",
       "    SST      (time, lat, lon) float32 ...\n",
       "    SSH      (time, lon, lat) float32 ...\n",
       "    U        (time, lon, lat) float32 ...\n",
       "    V        (time, lon, lat) float32 ...\n",
       "    SLA      (time, lon, lat) float32 ...\n",
       "Attributes:\n",
       "    CDI:                    Climate Data Interface version 1.5.3 (http://code...\n",
       "    Conventions:            CF-1.0\n",
       "    history:                Mon Jul 21 17:26:58 2014: cdo merge SST_SSH_U_V_g...\n",
       "    title:                  Analysed foundation sea surface temperature, global\n",
       "    DSD_entry_id:           REMSS-L4LRfnd-GLOB-tmi_amsre_OI\n",
       "    references:             none\n",
       "    source_data:            TMI-REMSS,AMSRE-REMSS\n",
       "    contact:                support@remss.com\n",
       "    GDS_version_id:         GDS-v1.0-rev1.6\n",
       "    netcdf_version_id:      3.5.0\n",
       "    creation_date:          2010-08-04\n",
       "    product_version:        v03\n",
       "    spatial_resolution:     25 km\n",
       "    start_date:             2003-12-30\n",
       "    start_time:             00:00:00 UTC\n",
       "    stop_date:              2004-01-03\n",
       "    stop_time:              23:59:59 UTC\n",
       "    southernmost_latitude:  -89.875\n",
       "    northernmost_latitude:  89.875\n",
       "    westernmost_longitude:  -179.875\n",
       "    easternmost_longitude:  179.875\n",
       "    file_quality_index:     1\n",
       "    comment:                www.remss.com for more infomation on product\n",
       "    CDO:                    Climate Data Operators version 1.5.3 (http://code...</pre>"
      ],
      "text/plain": [
       "<xarray.Dataset>\n",
       "Dimensions:  (lat: 18, lon: 60, time: 366)\n",
       "Coordinates:\n",
       "  * lon      (lon) float32 -178.625 -178.375 -178.125 ... -164.125 -163.875\n",
       "  * lat      (lat) float32 -82.375 -82.125 -81.875 ... -78.625 -78.375 -78.125\n",
       "  * time     (time) datetime64[ns] 2004-01-01T12:00:00 ... 1981-01-01\n",
       "Data variables:\n",
       "    SST      (time, lat, lon) float32 ...\n",
       "    SSH      (time, lon, lat) float32 ...\n",
       "    U        (time, lon, lat) float32 ...\n",
       "    V        (time, lon, lat) float32 ...\n",
       "    SLA      (time, lon, lat) float32 ...\n",
       "Attributes:\n",
       "    CDI:                    Climate Data Interface version 1.5.3 (http://code...\n",
       "    Conventions:            CF-1.0\n",
       "    history:                Mon Jul 21 17:26:58 2014: cdo merge SST_SSH_U_V_g...\n",
       "    title:                  Analysed foundation sea surface temperature, global\n",
       "    DSD_entry_id:           REMSS-L4LRfnd-GLOB-tmi_amsre_OI\n",
       "    references:             none\n",
       "    source_data:            TMI-REMSS,AMSRE-REMSS\n",
       "    contact:                support@remss.com\n",
       "    GDS_version_id:         GDS-v1.0-rev1.6\n",
       "    netcdf_version_id:      3.5.0\n",
       "    creation_date:          2010-08-04\n",
       "    product_version:        v03\n",
       "    spatial_resolution:     25 km\n",
       "    start_date:             2003-12-30\n",
       "    start_time:             00:00:00 UTC\n",
       "    stop_date:              2004-01-03\n",
       "    stop_time:              23:59:59 UTC\n",
       "    southernmost_latitude:  -89.875\n",
       "    northernmost_latitude:  89.875\n",
       "    westernmost_longitude:  -179.875\n",
       "    easternmost_longitude:  179.875\n",
       "    file_quality_index:     1\n",
       "    comment:                www.remss.com for more infomation on product\n",
       "    CDO:                    Climate Data Operators version 1.5.3 (http://code..."
      ]
     },
     "execution_count": 5,
     "metadata": {
      "tags": []
     },
     "output_type": "execute_result"
    }
   ],
   "source": [
    "ds = xr.open_dataset(\"/content/gdrive/My Drive/dataset/SST_SSH_U_V_SLA_global_2004.nc\")\n",
    "print(ds.sizes)\n",
    "ds_cut = ds.isel(lon=slice(5,65),lat=slice(30,48))#, time=slice(1,12))\n",
    "#ds_cut = ds.isel(time=0)\n",
    "ds_cut"
   ]
  },
  {
   "cell_type": "markdown",
   "metadata": {
    "colab_type": "text",
    "id": "11QqAgIe59Z4"
   },
   "source": [
    "# Create one row with temperature profile and patch data\n",
    "\n",
    "Concatenate SST and SSH in a single row\n"
   ]
  },
  {
   "cell_type": "code",
   "execution_count": 0,
   "metadata": {
    "colab": {
     "base_uri": "https://localhost:8080/",
     "height": 34
    },
    "colab_type": "code",
    "id": "m21XBrFqFYj6",
    "outputId": "ddaf6960-143f-41c4-fcf4-4b1975b5eb93"
   },
   "outputs": [
    {
     "data": {
      "text/plain": [
       "(366, 8)"
      ]
     },
     "execution_count": 4,
     "metadata": {
      "tags": []
     },
     "output_type": "execute_result"
    }
   ],
   "source": [
    "ssh = ds['SSH'].isel()#.stack(features=('latitude','longitude'))\n",
    "sst = ds['SST'].isel()#.stack(features=('latitude','longitude'))\n",
    "\n",
    "# Reduce the size \n",
    "sst = sst[:,range(5,7),range(5,7)].stack(features=('lat','lon')) # 5X5\n",
    "\n",
    "ssh = ssh[:,range(5,7),range(5,7)].stack(features=('lat','lon')) # 5X5\n",
    "\n",
    "\n",
    "# Possibly normalise features:\n",
    "#temp = (temp - np.mean(temp))/np.std(temp)  # Normalize by depth\n",
    "#sla = (sla - np.mean(sla))/np.std(sla)\n",
    "#sst = (sst - np.mean(sst))/np.std(sst)\n",
    "\n",
    "# Merge:\n",
    "features = np.concatenate((sst, ssh), axis=1)\n",
    "features.shape"
   ]
  },
  {
   "cell_type": "code",
   "execution_count": 6,
   "metadata": {
    "colab": {
     "base_uri": "https://localhost:8080/",
     "height": 238
    },
    "colab_type": "code",
    "id": "bWp05N1PcLIa",
    "outputId": "1b94d9ff-f2e0-4c87-f27f-0c32340f6d41"
   },
   "outputs": [
    {
     "name": "stdout",
     "output_type": "stream",
     "text": [
      "lat      lon       time               \n",
      "-82.375  -178.625  2004-01-01 12:00:00    NaN\n",
      "                   2004-01-02 12:00:00    NaN\n",
      "                   2004-01-03 12:00:00    NaN\n",
      "                   2004-01-04 12:00:00    NaN\n",
      "                   2004-01-05 12:00:00    NaN\n",
      "                                         ... \n",
      "-78.125  -163.875  1981-01-01 00:00:00    0.0\n",
      "                   1981-01-01 00:00:00    0.0\n",
      "                   1981-01-01 00:00:00    0.0\n",
      "                   1981-01-01 00:00:00    0.0\n",
      "                   1981-01-01 00:00:00    0.0\n",
      "Name: SSH, Length: 395280, dtype: float32\n"
     ]
    }
   ],
   "source": [
    "df = ds_cut.to_dataframe()\n",
    "#dfy = ssh_32.to_dataframe()\n",
    "#df.dropna()\n",
    "print(df['SSH'])"
   ]
  },
  {
   "cell_type": "code",
   "execution_count": 0,
   "metadata": {
    "colab": {
     "base_uri": "https://localhost:8080/",
     "height": 102
    },
    "colab_type": "code",
    "id": "-6wcCxr7y9ew",
    "outputId": "df6f7ad8-093e-47bf-ab95-afb2f087a634"
   },
   "outputs": [
    {
     "name": "stdout",
     "output_type": "stream",
     "text": [
      "       SST: analysed sea surface temperature\n",
      "       SSH: H\n",
      "         U: U\n",
      "         V: V\n",
      "       SLA: H\n"
     ]
    }
   ],
   "source": [
    "for v in ds_cut.data_vars:\n",
    "    print('{:>10}: {}'.format(v, ds[v].attrs['long_name']))"
   ]
  },
  {
   "cell_type": "code",
   "execution_count": 0,
   "metadata": {
    "colab": {
     "base_uri": "https://localhost:8080/",
     "height": 531
    },
    "colab_type": "code",
    "id": "qdM2RmxjzQtN",
    "outputId": "87108b6e-9ad2-4d45-c5c3-89cc75878684"
   },
   "outputs": [
    {
     "data": {
      "text/plain": [
       "<matplotlib.collections.QuadMesh at 0x7f0b4acfe780>"
      ]
     },
     "execution_count": 7,
     "metadata": {
      "tags": []
     },
     "output_type": "execute_result"
    },
    {
     "data": {
      "image/png": "[encoded data removed]",
      "text/plain": [
       "<Figure size 1080x576 with 2 Axes>"
      ]
     },
     "metadata": {
      "tags": []
     },
     "output_type": "display_data"
    }
   ],
   "source": [
    "#sns.scatterplot(data=df['SST'].values)\n",
    "plt.rcParams['figure.figsize'] = (15, 8)\n",
    "ds_cut.SSH.sel(time='2001-01-01', method='nearest').plot()"
   ]
  },
  {
   "cell_type": "markdown",
   "metadata": {
    "colab_type": "text",
    "id": "ue6rf5Su59aF"
   },
   "source": [
    "## I - Remove Nan Value"
   ]
  },
  {
   "cell_type": "code",
   "execution_count": 0,
   "metadata": {
    "colab": {
     "base_uri": "https://localhost:8080/",
     "height": 297
    },
    "colab_type": "code",
    "id": "CSfjI6aRvoC9",
    "outputId": "0851801e-616c-4ea8-8771-935361eba6e5"
   },
   "outputs": [
    {
     "data": {
      "text/html": [
       "<div>\n",
       "<style scoped>\n",
       "    .dataframe tbody tr th:only-of-type {\n",
       "        vertical-align: middle;\n",
       "    }\n",
       "\n",
       "    .dataframe tbody tr th {\n",
       "        vertical-align: top;\n",
       "    }\n",
       "\n",
       "    .dataframe thead th {\n",
       "        text-align: right;\n",
       "    }\n",
       "</style>\n",
       "<table border=\"1\" class=\"dataframe\">\n",
       "  <thead>\n",
       "    <tr style=\"text-align: right;\">\n",
       "      <th></th>\n",
       "      <th>SST</th>\n",
       "      <th>SSH</th>\n",
       "      <th>U</th>\n",
       "      <th>V</th>\n",
       "      <th>SLA</th>\n",
       "    </tr>\n",
       "  </thead>\n",
       "  <tbody>\n",
       "    <tr>\n",
       "      <th>count</th>\n",
       "      <td>395280.000000</td>\n",
       "      <td>395280.0</td>\n",
       "      <td>395280.0</td>\n",
       "      <td>395280.0</td>\n",
       "      <td>395280.0</td>\n",
       "    </tr>\n",
       "    <tr>\n",
       "      <th>mean</th>\n",
       "      <td>272.096161</td>\n",
       "      <td>0.0</td>\n",
       "      <td>0.0</td>\n",
       "      <td>0.0</td>\n",
       "      <td>0.0</td>\n",
       "    </tr>\n",
       "    <tr>\n",
       "      <th>std</th>\n",
       "      <td>0.855639</td>\n",
       "      <td>0.0</td>\n",
       "      <td>0.0</td>\n",
       "      <td>0.0</td>\n",
       "      <td>0.0</td>\n",
       "    </tr>\n",
       "    <tr>\n",
       "      <th>min</th>\n",
       "      <td>271.350006</td>\n",
       "      <td>0.0</td>\n",
       "      <td>0.0</td>\n",
       "      <td>0.0</td>\n",
       "      <td>0.0</td>\n",
       "    </tr>\n",
       "    <tr>\n",
       "      <th>25%</th>\n",
       "      <td>271.350006</td>\n",
       "      <td>0.0</td>\n",
       "      <td>0.0</td>\n",
       "      <td>0.0</td>\n",
       "      <td>0.0</td>\n",
       "    </tr>\n",
       "    <tr>\n",
       "      <th>50%</th>\n",
       "      <td>271.350006</td>\n",
       "      <td>0.0</td>\n",
       "      <td>0.0</td>\n",
       "      <td>0.0</td>\n",
       "      <td>0.0</td>\n",
       "    </tr>\n",
       "    <tr>\n",
       "      <th>75%</th>\n",
       "      <td>273.149994</td>\n",
       "      <td>0.0</td>\n",
       "      <td>0.0</td>\n",
       "      <td>0.0</td>\n",
       "      <td>0.0</td>\n",
       "    </tr>\n",
       "    <tr>\n",
       "      <th>max</th>\n",
       "      <td>273.899994</td>\n",
       "      <td>0.0</td>\n",
       "      <td>0.0</td>\n",
       "      <td>0.0</td>\n",
       "      <td>0.0</td>\n",
       "    </tr>\n",
       "  </tbody>\n",
       "</table>\n",
       "</div>"
      ],
      "text/plain": [
       "                 SST       SSH         U         V       SLA\n",
       "count  395280.000000  395280.0  395280.0  395280.0  395280.0\n",
       "mean      272.096161       0.0       0.0       0.0       0.0\n",
       "std         0.855639       0.0       0.0       0.0       0.0\n",
       "min       271.350006       0.0       0.0       0.0       0.0\n",
       "25%       271.350006       0.0       0.0       0.0       0.0\n",
       "50%       271.350006       0.0       0.0       0.0       0.0\n",
       "75%       273.149994       0.0       0.0       0.0       0.0\n",
       "max       273.899994       0.0       0.0       0.0       0.0"
      ]
     },
     "execution_count": 41,
     "metadata": {
      "tags": []
     },
     "output_type": "execute_result"
    }
   ],
   "source": [
    "df2 = df.fillna(df.mean())\n",
    "df2.describe()"
   ]
  },
  {
   "cell_type": "code",
   "execution_count": 0,
   "metadata": {
    "colab": {
     "base_uri": "https://localhost:8080/",
     "height": 119
    },
    "colab_type": "code",
    "id": "ebdDgu3-vLlA",
    "outputId": "b1b9a284-2ade-4d3c-890a-537a4658eb6b"
   },
   "outputs": [
    {
     "data": {
      "text/plain": [
       "SST    0\n",
       "SSH    0\n",
       "U      0\n",
       "V      0\n",
       "SLA    0\n",
       "dtype: int64"
      ]
     },
     "execution_count": 42,
     "metadata": {
      "tags": []
     },
     "output_type": "execute_result"
    }
   ],
   "source": [
    "df2.isnull().sum()"
   ]
  },
  {
   "cell_type": "code",
   "execution_count": 0,
   "metadata": {
    "colab": {
     "base_uri": "https://localhost:8080/",
     "height": 704
    },
    "colab_type": "code",
    "id": "-Wc8v3rwvV_q",
    "outputId": "3fea740d-db49-43ae-811a-5309b2df4b78"
   },
   "outputs": [
    {
     "data": {
      "text/plain": [
       "lat      lon       time               \n",
       "-82.375  -178.625  2004-01-01 12:00:00    271.350006\n",
       "                   2004-01-02 12:00:00    271.350006\n",
       "                   2004-01-03 12:00:00    271.350006\n",
       "                   2004-01-04 12:00:00    271.350006\n",
       "                   2004-01-05 12:00:00    271.350006\n",
       "                                             ...    \n",
       "-78.125  -163.875  1981-01-01 00:00:00    273.149994\n",
       "                   1981-01-01 00:00:00    273.149994\n",
       "                   1981-01-01 00:00:00    273.149994\n",
       "                   1981-01-01 00:00:00    273.149994\n",
       "                   1981-01-01 00:00:00    273.149994\n",
       "Name: SST, Length: 395280, dtype: float32"
      ]
     },
     "execution_count": 44,
     "metadata": {
      "tags": []
     },
     "output_type": "execute_result"
    },
    {
     "data": {
      "image/png": "[encoded data removed]",
      "text/plain": [
       "<Figure size 1080x576 with 1 Axes>"
      ]
     },
     "metadata": {
      "tags": []
     },
     "output_type": "display_data"
    }
   ],
   "source": [
    "sns.scatterplot(data=df2['SST'].values)\n",
    "df2['SST']"
   ]
  },
  {
   "cell_type": "code",
   "execution_count": 0,
   "metadata": {
    "colab": {
     "base_uri": "https://localhost:8080/",
     "height": 170
    },
    "colab_type": "code",
    "id": "Z1ghB9_2H7z0",
    "outputId": "30a53d22-71ce-4b72-9426-888c102febaa"
   },
   "outputs": [
    {
     "data": {
      "text/plain": [
       "count    1.237350e+07\n",
       "mean     2.624807e+02\n",
       "std      2.687164e+01\n",
       "min      2.713500e+02\n",
       "25%      2.751000e+02\n",
       "50%      2.887500e+02\n",
       "75%      2.983500e+02\n",
       "max      3.057000e+02\n",
       "Name: SST, dtype: float64"
      ]
     },
     "execution_count": 29,
     "metadata": {
      "tags": []
     },
     "output_type": "execute_result"
    }
   ],
   "source": [
    "dd = df.astype('float32')\n",
    "\n",
    "X = dd['SST'].round(2)\n",
    "y = dd['SSH'].round(2)\n",
    "X.describe()"
   ]
  },
  {
   "cell_type": "code",
   "execution_count": 0,
   "metadata": {
    "colab": {
     "base_uri": "https://localhost:8080/",
     "height": 297
    },
    "colab_type": "code",
    "id": "xTVtcguscYgL",
    "outputId": "d55e7623-8427-458a-e7d6-26177ccdbf35"
   },
   "outputs": [
    {
     "data": {
      "text/html": [
       "<div>\n",
       "<style scoped>\n",
       "    .dataframe tbody tr th:only-of-type {\n",
       "        vertical-align: middle;\n",
       "    }\n",
       "\n",
       "    .dataframe tbody tr th {\n",
       "        vertical-align: top;\n",
       "    }\n",
       "\n",
       "    .dataframe thead th {\n",
       "        text-align: right;\n",
       "    }\n",
       "</style>\n",
       "<table border=\"1\" class=\"dataframe\">\n",
       "  <thead>\n",
       "    <tr style=\"text-align: right;\">\n",
       "      <th></th>\n",
       "      <th>SST</th>\n",
       "      <th>SSH</th>\n",
       "      <th>U</th>\n",
       "      <th>V</th>\n",
       "      <th>SLA</th>\n",
       "    </tr>\n",
       "  </thead>\n",
       "  <tbody>\n",
       "    <tr>\n",
       "      <th>count</th>\n",
       "      <td>373566.000000</td>\n",
       "      <td>145800.0</td>\n",
       "      <td>146880.0</td>\n",
       "      <td>146880.0</td>\n",
       "      <td>146880.0</td>\n",
       "    </tr>\n",
       "    <tr>\n",
       "      <th>mean</th>\n",
       "      <td>272.101746</td>\n",
       "      <td>0.0</td>\n",
       "      <td>0.0</td>\n",
       "      <td>0.0</td>\n",
       "      <td>0.0</td>\n",
       "    </tr>\n",
       "    <tr>\n",
       "      <th>std</th>\n",
       "      <td>0.878241</td>\n",
       "      <td>0.0</td>\n",
       "      <td>0.0</td>\n",
       "      <td>0.0</td>\n",
       "      <td>0.0</td>\n",
       "    </tr>\n",
       "    <tr>\n",
       "      <th>min</th>\n",
       "      <td>271.350006</td>\n",
       "      <td>0.0</td>\n",
       "      <td>0.0</td>\n",
       "      <td>0.0</td>\n",
       "      <td>0.0</td>\n",
       "    </tr>\n",
       "    <tr>\n",
       "      <th>25%</th>\n",
       "      <td>271.350006</td>\n",
       "      <td>0.0</td>\n",
       "      <td>0.0</td>\n",
       "      <td>0.0</td>\n",
       "      <td>0.0</td>\n",
       "    </tr>\n",
       "    <tr>\n",
       "      <th>50%</th>\n",
       "      <td>271.350006</td>\n",
       "      <td>0.0</td>\n",
       "      <td>0.0</td>\n",
       "      <td>0.0</td>\n",
       "      <td>0.0</td>\n",
       "    </tr>\n",
       "    <tr>\n",
       "      <th>75%</th>\n",
       "      <td>273.149994</td>\n",
       "      <td>0.0</td>\n",
       "      <td>0.0</td>\n",
       "      <td>0.0</td>\n",
       "      <td>0.0</td>\n",
       "    </tr>\n",
       "    <tr>\n",
       "      <th>max</th>\n",
       "      <td>273.899994</td>\n",
       "      <td>0.0</td>\n",
       "      <td>0.0</td>\n",
       "      <td>0.0</td>\n",
       "      <td>0.0</td>\n",
       "    </tr>\n",
       "  </tbody>\n",
       "</table>\n",
       "</div>"
      ],
      "text/plain": [
       "                 SST       SSH         U         V       SLA\n",
       "count  373566.000000  145800.0  146880.0  146880.0  146880.0\n",
       "mean      272.101746       0.0       0.0       0.0       0.0\n",
       "std         0.878241       0.0       0.0       0.0       0.0\n",
       "min       271.350006       0.0       0.0       0.0       0.0\n",
       "25%       271.350006       0.0       0.0       0.0       0.0\n",
       "50%       271.350006       0.0       0.0       0.0       0.0\n",
       "75%       273.149994       0.0       0.0       0.0       0.0\n",
       "max       273.899994       0.0       0.0       0.0       0.0"
      ]
     },
     "execution_count": 50,
     "metadata": {
      "tags": []
     },
     "output_type": "execute_result"
    }
   ],
   "source": [
    "df.describe()"
   ]
  },
  {
   "cell_type": "code",
   "execution_count": 0,
   "metadata": {
    "colab": {
     "base_uri": "https://localhost:8080/",
     "height": 34
    },
    "colab_type": "code",
    "id": "f3VbfF5qKqL6",
    "outputId": "524a4d9d-2593-4c30-f445-5ff7dd8304c9"
   },
   "outputs": [
    {
     "data": {
      "text/plain": [
       "numpy.float32"
      ]
     },
     "execution_count": 53,
     "metadata": {
      "tags": []
     },
     "output_type": "execute_result"
    }
   ],
   "source": [
    "X = df['SST'].astype('float32').dtypes\n",
    "X.type"
   ]
  },
  {
   "cell_type": "markdown",
   "metadata": {
    "colab_type": "text",
    "id": "Slrg7AnEuCwt"
   },
   "source": [
    "## II - Training of the ResNet"
   ]
  },
  {
   "cell_type": "code",
   "execution_count": 0,
   "metadata": {
    "colab": {},
    "colab_type": "code",
    "id": "95W0j72Yx9Iv"
   },
   "outputs": [],
   "source": [
    "X2 = df['SST'].values#.reshape(-1, 1)\n",
    "y2 = df['SSH'].values#.reshape(-1, 1)\n",
    "X2 = np.nan_to_num(X2)\n",
    "y2 = np.nan_to_num(y2)\n",
    "X = X2.astype('long')\n",
    "y = y2.astype('long')\n",
    "\n",
    "# Split the data into training/testing sets\n",
    "X_train = X[:300]\n",
    "X_test = X[66:]\n",
    "\n",
    "# Split the targets into training/testing sets\n",
    "y_train = y[:300]\n",
    "y_test = y[66:]\n",
    "\"\"\"\n",
    "print(\"Training MLPRegressor...\")\n",
    "tic = time()\n",
    "est = make_pipeline(QuantileTransformer(),\n",
    "                    MLPRegressor(hidden_layer_sizes=(50, 50),\n",
    "                                 learning_rate_init=0.01,\n",
    "                                 early_stopping=True))\n",
    "est.fit(X_train, y_train)\n",
    "print(\"done in {:.3f}s\".format(time() - tic))\n",
    "print(\"Test R2 score: {:.2f}\".format(est.score(X_test, y_test)))\n",
    "\n",
    "\n",
    "# Create linear regression object\n",
    "regr = linear_model.LinearRegression()\n",
    "\n",
    "# Train the model using the training sets\n",
    "regr.fit(X_train, y_train)\n",
    "\n",
    "# Make predictions using the testing set\n",
    "y_pred = regr.predict(X_test)\n",
    "\"\"\"\n",
    "featuresTrain = torch.from_numpy(X_train)\n",
    "targetsTrain = torch.from_numpy(y_train)\n",
    "targetsTrain.shape\n",
    "\n",
    "# create feature and targets tensor for test set.\n",
    "featuresTest = torch.from_numpy(X_test)\n",
    "targetsTest = torch.from_numpy(y_test) # data type is long\n",
    "\n",
    "# batch_size, epoch and iteration\n",
    "batch_size = 2\n",
    "n_iters = 100\n",
    "num_epochs = 5\n",
    "\n",
    "# Pytorch train and test sets\n",
    "train = torch.utils.data.TensorDataset(featuresTrain,targetsTrain)\n",
    "test = torch.utils.data.TensorDataset(featuresTest,targetsTest)\n",
    "\n",
    "# data loader\n",
    "train_loader = torch.utils.data.DataLoader(train, batch_size = batch_size, shuffle = False)\n",
    "test_loader = torch.utils.data.DataLoader(test, batch_size = batch_size, shuffle = False)\n",
    "\n",
    "# Create ResNet\n",
    "net_args = {\n",
    "    \"block\": ResidualBlock,\n",
    "    \"layers\": [2, 2, 2, 2]\n",
    "}\n",
    "model = ResNet(**net_args).float()\n",
    "\n",
    "# Cross Entropy Loss \n",
    "error = nn.CrossEntropyLoss()\n",
    "\n",
    "# Adam Optimizer\n",
    "learning_rate = 0.05\n",
    "optimizer = torch.optim.Adam(model.parameters(), lr=learning_rate)"
   ]
  },
  {
   "cell_type": "code",
   "execution_count": 0,
   "metadata": {
    "colab": {},
    "colab_type": "code",
    "id": "pNcbAaN6SgnF"
   },
   "outputs": [],
   "source": [
    "loss_list = []\n",
    "iteration_list = []\n",
    "accuracy_list = []\n",
    "count = 0\n",
    "\n",
    "for epoch in range(num_epochs):\n",
    "    for i, (images, labels) in enumerate(train_loader):\n",
    "        train  = Variable(images.resize_(batch_size, 1, 32, 32))\n",
    "        labels = Variable(labels)           \n",
    "        # Clear gradients\n",
    "        optimizer.zero_grad()    \n",
    "        # Forward propagation\n",
    "        outputs = model(train.float())        \n",
    "        # Calculate softmax and ross entropy loss\n",
    "        loss = error(outputs, labels)        \n",
    "        # Calculating gradients\n",
    "        loss.backward()        \n",
    "        # Update parameters\n",
    "        optimizer.step()        \n",
    "        count += 1      \n",
    "        if count % 250 == 0:\n",
    "            # Calculate Accuracy         \n",
    "            correct = 0\n",
    "            total = 0\n",
    "            # Iterate through test dataset\n",
    "            for images, labels in test_loader:\n",
    "                images = Variable(images.resize_(batch_size, 1, 32, 32))                \n",
    "                # Forward propagation\n",
    "                outputs = model(images.float())                \n",
    "                # Get predictions from the maximum value\n",
    "                predicted = torch.max(outputs.data, 1)[1]                \n",
    "                # Total number of labels\n",
    "                total += labels.size(0)              \n",
    "                correct += (predicted == labels).sum()         \n",
    "            accuracy = 100 * correct / float(total)           \n",
    "            # store loss and iteration\n",
    "            loss_list.append(loss.data)\n",
    "            iteration_list.append(count)\n",
    "            accuracy_list.append(accuracy)\n",
    "            if count % 500 == 0:\n",
    "                # Print Loss\n",
    "                print('Iteration: {}  Loss: {}  Accuracy: {} %'.format(count, loss.data, accuracy))\n"
   ]
  },
  {
   "cell_type": "code",
   "execution_count": 0,
   "metadata": {
    "colab": {
     "base_uri": "https://localhost:8080/",
     "height": 748
    },
    "colab_type": "code",
    "id": "_puKY_hkgeZJ",
    "outputId": "db33bda1-cd90-4bf3-f0db-e6313d5bf63a"
   },
   "outputs": [
    {
     "name": "stdout",
     "output_type": "stream",
     "text": [
      "(11814, 1)\n",
      "Coefficients: \n",
      " [tensor(0.), tensor(0.), tensor(0.)]\n"
     ]
    },
    {
     "ename": "NameError",
     "evalue": "ignored",
     "output_type": "error",
     "traceback": [
      "\u001b[0;31m---------------------------------------------------------------------------\u001b[0m",
      "\u001b[0;31mNameError\u001b[0m                                 Traceback (most recent call last)",
      "\u001b[0;32m<ipython-input-42-9c8af6dca7ee>\u001b[0m in \u001b[0;36m<module>\u001b[0;34m()\u001b[0m\n\u001b[1;32m      8\u001b[0m \u001b[0;31m# Plot outputs\u001b[0m\u001b[0;34m\u001b[0m\u001b[0;34m\u001b[0m\u001b[0;34m\u001b[0m\u001b[0m\n\u001b[1;32m      9\u001b[0m \u001b[0mplt\u001b[0m\u001b[0;34m.\u001b[0m\u001b[0mscatter\u001b[0m\u001b[0;34m(\u001b[0m\u001b[0mX_test\u001b[0m\u001b[0;34m,\u001b[0m \u001b[0my_test\u001b[0m\u001b[0;34m,\u001b[0m  \u001b[0mcolor\u001b[0m\u001b[0;34m=\u001b[0m\u001b[0;34m'black'\u001b[0m\u001b[0;34m)\u001b[0m\u001b[0;34m\u001b[0m\u001b[0;34m\u001b[0m\u001b[0m\n\u001b[0;32m---> 10\u001b[0;31m \u001b[0mplt\u001b[0m\u001b[0;34m.\u001b[0m\u001b[0mplot\u001b[0m\u001b[0;34m(\u001b[0m\u001b[0mX_test\u001b[0m\u001b[0;34m,\u001b[0m \u001b[0my_pred\u001b[0m\u001b[0;34m,\u001b[0m \u001b[0mcolor\u001b[0m\u001b[0;34m=\u001b[0m\u001b[0;34m'blue'\u001b[0m\u001b[0;34m,\u001b[0m \u001b[0mlinewidth\u001b[0m\u001b[0;34m=\u001b[0m\u001b[0;36m3\u001b[0m\u001b[0;34m)\u001b[0m\u001b[0;34m\u001b[0m\u001b[0;34m\u001b[0m\u001b[0m\n\u001b[0m\u001b[1;32m     11\u001b[0m \u001b[0;34m\u001b[0m\u001b[0m\n\u001b[1;32m     12\u001b[0m \u001b[0mplt\u001b[0m\u001b[0;34m.\u001b[0m\u001b[0mxticks\u001b[0m\u001b[0;34m(\u001b[0m\u001b[0;34m(\u001b[0m\u001b[0;34m)\u001b[0m\u001b[0;34m)\u001b[0m\u001b[0;34m\u001b[0m\u001b[0;34m\u001b[0m\u001b[0m\n",
      "\u001b[0;31mNameError\u001b[0m: name 'y_pred' is not defined"
     ]
    },
    {
     "data": {
      "image/png": "[encoded data removed]",
      "text/plain": [
       "<Figure size 1080x576 with 1 Axes>"
      ]
     },
     "metadata": {
      "tags": []
     },
     "output_type": "display_data"
    }
   ],
   "source": [
    "X_test = np.reshape(X_test,(-1,1))\n",
    "print(X_test.shape)\n",
    "\n",
    "print('Coefficients: \\n', loss_list)\n",
    "# The mean squared error\n",
    "\n",
    "\n",
    "# Plot outputs\n",
    "plt.scatter(X_test, y_test,  color='black')\n",
    "plt.plot(X_test, y_pred, color='blue', linewidth=3)\n",
    "\n",
    "plt.xticks(())\n",
    "plt.yticks(())\n",
    "\n",
    "plt.show()"
   ]
  },
  {
   "cell_type": "code",
   "execution_count": 0,
   "metadata": {
    "colab": {},
    "colab_type": "code",
    "id": "epP2w0IZSgm3",
    "outputId": "cb29e460-ff93-49af-f0c9-c9bc827867c8"
   },
   "outputs": [
    {
     "ename": "NameError",
     "evalue": "name 'time' is not defined",
     "output_type": "error",
     "traceback": [
      "\u001b[0;31m---------------------------------------------------------------------------\u001b[0m",
      "\u001b[0;31mNameError\u001b[0m                                 Traceback (most recent call last)",
      "\u001b[0;32m<ipython-input-5-c35ce8f59ad1>\u001b[0m in \u001b[0;36m<module>\u001b[0;34m\u001b[0m\n\u001b[1;32m     10\u001b[0m \u001b[0mRefTime\u001b[0m         \u001b[0;34m=\u001b[0m \u001b[0mdate\u001b[0m\u001b[0;34m(\u001b[0m\u001b[0;36m1900\u001b[0m\u001b[0;34m,\u001b[0m\u001b[0;36m1\u001b[0m\u001b[0;34m,\u001b[0m\u001b[0;36m1\u001b[0m\u001b[0;34m)\u001b[0m\u001b[0;34m\u001b[0m\u001b[0;34m\u001b[0m\u001b[0m\n\u001b[1;32m     11\u001b[0m \u001b[0;34m\u001b[0m\u001b[0m\n\u001b[0;32m---> 12\u001b[0;31m \u001b[0mtime\u001b[0m \u001b[0;34m=\u001b[0m \u001b[0mtime\u001b[0m \u001b[0;34m/\u001b[0m \u001b[0;34m(\u001b[0m\u001b[0;36m60.\u001b[0m\u001b[0;34m*\u001b[0m\u001b[0;36m60.\u001b[0m\u001b[0;34m*\u001b[0m\u001b[0;36m24\u001b[0m\u001b[0;34m)\u001b[0m\u001b[0;34m\u001b[0m\u001b[0;34m\u001b[0m\u001b[0m\n\u001b[0m\u001b[1;32m     13\u001b[0m \u001b[0mtime\u001b[0m \u001b[0;34m=\u001b[0m \u001b[0mdatetime\u001b[0m\u001b[0;34m.\u001b[0m\u001b[0mdatetime\u001b[0m\u001b[0;34m.\u001b[0m\u001b[0mtoordinal\u001b[0m\u001b[0;34m(\u001b[0m\u001b[0mRefTime\u001b[0m\u001b[0;34m)\u001b[0m \u001b[0;34m+\u001b[0m \u001b[0mtime\u001b[0m\u001b[0;34m\u001b[0m\u001b[0;34m\u001b[0m\u001b[0m\n\u001b[1;32m     14\u001b[0m \u001b[0;34m\u001b[0m\u001b[0m\n",
      "\u001b[0;31mNameError\u001b[0m: name 'time' is not defined"
     ]
    }
   ],
   "source": [
    "resGrid     = 0.05\n",
    "resGridLR   = 1.\n",
    "IterScale   = 10\n",
    "IterScaleLR = np.array([100,5])\n",
    "LamScale    = 0.2\n",
    "latitude_min = 0\n",
    "latitude_max = 30\n",
    "longitude_min = -15\n",
    "longitude_max = 15\n",
    "RefTime = date(1900,1,1)\n",
    "\n",
    "time = time / (60.*60.*24)\n",
    "time = datetime.datetime.toordinal(RefTime) + time\n",
    "\n",
    "\n",
    "indlat = np.where( (lat >= latitude_min) & (lat <= latitude_max ) )\n",
    "indlon = np.where( (lon >= longitude_min) & (lon <= longitude_max ) )\n",
    "sshROI  = ssh[0,indlat[0][0]:indlat[0][-1],indlon[0][0]:indlon[0][-1]].squeeze()\n",
    "sstROI  = sst[0,indlat[0][0]:indlat[0][-1],indlon[0][0]:indlon[0][-1]].squeeze()\n",
    "maskROI = sst.mask[0,indlat[0][0]:indlat[0][-1],indlon[0][0]:indlon[0][-1]].squeeze()"
   ]
  },
  {
   "cell_type": "code",
   "execution_count": 0,
   "metadata": {
    "colab": {},
    "colab_type": "code",
    "id": "H1w6hMloSgm8",
    "outputId": "aa329da0-5500-4725-9a1d-b76c11b3f1be"
   },
   "outputs": [
    {
     "ename": "NameError",
     "evalue": "name 'indlat' is not defined",
     "output_type": "error",
     "traceback": [
      "\u001b[0;31m---------------------------------------------------------------------------\u001b[0m",
      "\u001b[0;31mNameError\u001b[0m                                 Traceback (most recent call last)",
      "\u001b[0;32m<ipython-input-6-cd3f3d08533b>\u001b[0m in \u001b[0;36m<module>\u001b[0;34m\u001b[0m\n\u001b[1;32m      1\u001b[0m \u001b[0;32mfor\u001b[0m \u001b[0mi\u001b[0m \u001b[0;32min\u001b[0m \u001b[0mrange\u001b[0m\u001b[0;34m(\u001b[0m\u001b[0;36m0\u001b[0m\u001b[0;34m,\u001b[0m\u001b[0;36m2\u001b[0m\u001b[0;34m)\u001b[0m\u001b[0;34m:\u001b[0m\u001b[0;34m\u001b[0m\u001b[0;34m\u001b[0m\u001b[0m\n\u001b[0;32m----> 2\u001b[0;31m     \u001b[0msshROI\u001b[0m  \u001b[0;34m=\u001b[0m \u001b[0mssh\u001b[0m\u001b[0;34m[\u001b[0m\u001b[0mi\u001b[0m\u001b[0;34m,\u001b[0m\u001b[0mindlat\u001b[0m\u001b[0;34m[\u001b[0m\u001b[0;36m0\u001b[0m\u001b[0;34m]\u001b[0m\u001b[0;34m[\u001b[0m\u001b[0;36m0\u001b[0m\u001b[0;34m]\u001b[0m\u001b[0;34m:\u001b[0m\u001b[0mindlat\u001b[0m\u001b[0;34m[\u001b[0m\u001b[0;36m0\u001b[0m\u001b[0;34m]\u001b[0m\u001b[0;34m[\u001b[0m\u001b[0;34m-\u001b[0m\u001b[0;36m1\u001b[0m\u001b[0;34m]\u001b[0m\u001b[0;34m,\u001b[0m\u001b[0mindlon\u001b[0m\u001b[0;34m[\u001b[0m\u001b[0;36m0\u001b[0m\u001b[0;34m]\u001b[0m\u001b[0;34m[\u001b[0m\u001b[0;36m0\u001b[0m\u001b[0;34m]\u001b[0m\u001b[0;34m:\u001b[0m\u001b[0mindlon\u001b[0m\u001b[0;34m[\u001b[0m\u001b[0;36m0\u001b[0m\u001b[0;34m]\u001b[0m\u001b[0;34m[\u001b[0m\u001b[0;34m-\u001b[0m\u001b[0;36m1\u001b[0m\u001b[0;34m]\u001b[0m\u001b[0;34m]\u001b[0m\u001b[0;34m.\u001b[0m\u001b[0msqueeze\u001b[0m\u001b[0;34m(\u001b[0m\u001b[0;34m)\u001b[0m\u001b[0;34m\u001b[0m\u001b[0;34m\u001b[0m\u001b[0m\n\u001b[0m\u001b[1;32m      3\u001b[0m     \u001b[0msstROI\u001b[0m  \u001b[0;34m=\u001b[0m \u001b[0msst\u001b[0m\u001b[0;34m[\u001b[0m\u001b[0mi\u001b[0m\u001b[0;34m,\u001b[0m\u001b[0mindlat\u001b[0m\u001b[0;34m[\u001b[0m\u001b[0;36m0\u001b[0m\u001b[0;34m]\u001b[0m\u001b[0;34m[\u001b[0m\u001b[0;36m0\u001b[0m\u001b[0;34m]\u001b[0m\u001b[0;34m:\u001b[0m\u001b[0mindlat\u001b[0m\u001b[0;34m[\u001b[0m\u001b[0;36m0\u001b[0m\u001b[0;34m]\u001b[0m\u001b[0;34m[\u001b[0m\u001b[0;34m-\u001b[0m\u001b[0;36m1\u001b[0m\u001b[0;34m]\u001b[0m\u001b[0;34m,\u001b[0m\u001b[0mindlon\u001b[0m\u001b[0;34m[\u001b[0m\u001b[0;36m0\u001b[0m\u001b[0;34m]\u001b[0m\u001b[0;34m[\u001b[0m\u001b[0;36m0\u001b[0m\u001b[0;34m]\u001b[0m\u001b[0;34m:\u001b[0m\u001b[0mindlon\u001b[0m\u001b[0;34m[\u001b[0m\u001b[0;36m0\u001b[0m\u001b[0;34m]\u001b[0m\u001b[0;34m[\u001b[0m\u001b[0;34m-\u001b[0m\u001b[0;36m1\u001b[0m\u001b[0;34m]\u001b[0m\u001b[0;34m]\u001b[0m\u001b[0;34m.\u001b[0m\u001b[0msqueeze\u001b[0m\u001b[0;34m(\u001b[0m\u001b[0;34m)\u001b[0m\u001b[0;34m\u001b[0m\u001b[0;34m\u001b[0m\u001b[0m\n\u001b[1;32m      4\u001b[0m     \u001b[0mprint\u001b[0m\u001b[0;34m(\u001b[0m\u001b[0;34m\"SSH : \"\u001b[0m \u001b[0;34m+\u001b[0m \u001b[0mstr\u001b[0m\u001b[0;34m(\u001b[0m\u001b[0msshROI\u001b[0m\u001b[0;34m)\u001b[0m\u001b[0;34m)\u001b[0m\u001b[0;34m\u001b[0m\u001b[0;34m\u001b[0m\u001b[0m\n\u001b[1;32m      5\u001b[0m     \u001b[0mprint\u001b[0m\u001b[0;34m(\u001b[0m\u001b[0;34m\"SSH shape : \"\u001b[0m \u001b[0;34m+\u001b[0m \u001b[0mstr\u001b[0m\u001b[0;34m(\u001b[0m\u001b[0msshROI\u001b[0m\u001b[0;34m.\u001b[0m\u001b[0mshape\u001b[0m\u001b[0;34m)\u001b[0m\u001b[0;34m)\u001b[0m\u001b[0;34m\u001b[0m\u001b[0;34m\u001b[0m\u001b[0m\n",
      "\u001b[0;31mNameError\u001b[0m: name 'indlat' is not defined"
     ]
    }
   ],
   "source": [
    "for i in range(0,2):\n",
    "    sshROI  = ssh[i,indlat[0][0]:indlat[0][-1],indlon[0][0]:indlon[0][-1]].squeeze()\n",
    "    sstROI  = sst[i,indlat[0][0]:indlat[0][-1],indlon[0][0]:indlon[0][-1]].squeeze()\n",
    "    print(\"SSH : \" + str(sshROI))\n",
    "    print(\"SSH shape : \" + str(sshROI.shape))\n",
    "\n",
    "    print(\"SST : \" + str(sstROI))\n",
    "    print(\"SST shape : \" + str(sstROI.shape))\n",
    "    #maskROI = sst.mask[i,indlat[0][0]:indlat[0][-1],indlon[0][0]:indlon[0][-1]].squeeze()\n",
    "    plt.figure()\n",
    "    imgplot = plt.imshow(np.flipud(sstROI))\n",
    "    imgplot.set_cmap('hot')\n",
    "\n",
    "    plt.figure()\n",
    "    imgplot = plt.imshow(np.flipud(sstROI))\n",
    "    imgplot.set_cmap('hot')"
   ]
  },
  {
   "cell_type": "code",
   "execution_count": 0,
   "metadata": {
    "colab": {},
    "colab_type": "code",
    "id": "K3Qmj3I2SgnA",
    "outputId": "d3fd0623-db35-410c-af26-d27e51bdde6f"
   },
   "outputs": [
    {
     "ename": "NameError",
     "evalue": "name 'indlat' is not defined",
     "output_type": "error",
     "traceback": [
      "\u001b[0;31m---------------------------------------------------------------------------\u001b[0m",
      "\u001b[0;31mNameError\u001b[0m                                 Traceback (most recent call last)",
      "\u001b[0;32m<ipython-input-7-4fc4bf84ed15>\u001b[0m in \u001b[0;36m<module>\u001b[0;34m\u001b[0m\n\u001b[1;32m      2\u001b[0m \u001b[0msstROI\u001b[0m  \u001b[0;34m=\u001b[0m \u001b[0mnp\u001b[0m\u001b[0;34m.\u001b[0m\u001b[0mma\u001b[0m\u001b[0;34m.\u001b[0m\u001b[0mempty\u001b[0m\u001b[0;34m(\u001b[0m\u001b[0;34m[\u001b[0m\u001b[0;36m3453\u001b[0m\u001b[0;34m,\u001b[0m \u001b[0;36m3453\u001b[0m\u001b[0;34m]\u001b[0m\u001b[0;34m)\u001b[0m\u001b[0;34m\u001b[0m\u001b[0;34m\u001b[0m\u001b[0m\n\u001b[1;32m      3\u001b[0m \u001b[0;32mfor\u001b[0m \u001b[0mi\u001b[0m \u001b[0;32min\u001b[0m \u001b[0mrange\u001b[0m\u001b[0;34m(\u001b[0m\u001b[0;36m0\u001b[0m\u001b[0;34m,\u001b[0m\u001b[0;36m24\u001b[0m\u001b[0;34m)\u001b[0m\u001b[0;34m:\u001b[0m\u001b[0;34m\u001b[0m\u001b[0;34m\u001b[0m\u001b[0m\n\u001b[0;32m----> 4\u001b[0;31m     \u001b[0mnp\u001b[0m\u001b[0;34m.\u001b[0m\u001b[0mhstack\u001b[0m\u001b[0;34m(\u001b[0m\u001b[0;34m(\u001b[0m\u001b[0msshROI\u001b[0m\u001b[0;34m,\u001b[0m \u001b[0mssh\u001b[0m\u001b[0;34m[\u001b[0m\u001b[0mi\u001b[0m\u001b[0;34m,\u001b[0m\u001b[0mindlat\u001b[0m\u001b[0;34m[\u001b[0m\u001b[0;36m0\u001b[0m\u001b[0;34m]\u001b[0m\u001b[0;34m[\u001b[0m\u001b[0;36m0\u001b[0m\u001b[0;34m]\u001b[0m\u001b[0;34m:\u001b[0m\u001b[0mindlat\u001b[0m\u001b[0;34m[\u001b[0m\u001b[0;36m0\u001b[0m\u001b[0;34m]\u001b[0m\u001b[0;34m[\u001b[0m\u001b[0;34m-\u001b[0m\u001b[0;36m1\u001b[0m\u001b[0;34m]\u001b[0m\u001b[0;34m,\u001b[0m\u001b[0mindlon\u001b[0m\u001b[0;34m[\u001b[0m\u001b[0;36m0\u001b[0m\u001b[0;34m]\u001b[0m\u001b[0;34m[\u001b[0m\u001b[0;36m0\u001b[0m\u001b[0;34m]\u001b[0m\u001b[0;34m:\u001b[0m\u001b[0mindlon\u001b[0m\u001b[0;34m[\u001b[0m\u001b[0;36m0\u001b[0m\u001b[0;34m]\u001b[0m\u001b[0;34m[\u001b[0m\u001b[0;34m-\u001b[0m\u001b[0;36m1\u001b[0m\u001b[0;34m]\u001b[0m\u001b[0;34m]\u001b[0m\u001b[0;34m.\u001b[0m\u001b[0msqueeze\u001b[0m\u001b[0;34m(\u001b[0m\u001b[0;34m)\u001b[0m\u001b[0;34m)\u001b[0m\u001b[0;34m)\u001b[0m\u001b[0;34m\u001b[0m\u001b[0;34m\u001b[0m\u001b[0m\n\u001b[0m\u001b[1;32m      5\u001b[0m     \u001b[0mnp\u001b[0m\u001b[0;34m.\u001b[0m\u001b[0mhstack\u001b[0m\u001b[0;34m(\u001b[0m\u001b[0;34m(\u001b[0m\u001b[0msstROI\u001b[0m\u001b[0;34m,\u001b[0m \u001b[0msst\u001b[0m\u001b[0;34m[\u001b[0m\u001b[0mi\u001b[0m\u001b[0;34m,\u001b[0m\u001b[0mindlat\u001b[0m\u001b[0;34m[\u001b[0m\u001b[0;36m0\u001b[0m\u001b[0;34m]\u001b[0m\u001b[0;34m[\u001b[0m\u001b[0;36m0\u001b[0m\u001b[0;34m]\u001b[0m\u001b[0;34m:\u001b[0m\u001b[0mindlat\u001b[0m\u001b[0;34m[\u001b[0m\u001b[0;36m0\u001b[0m\u001b[0;34m]\u001b[0m\u001b[0;34m[\u001b[0m\u001b[0;34m-\u001b[0m\u001b[0;36m1\u001b[0m\u001b[0;34m]\u001b[0m\u001b[0;34m,\u001b[0m\u001b[0mindlon\u001b[0m\u001b[0;34m[\u001b[0m\u001b[0;36m0\u001b[0m\u001b[0;34m]\u001b[0m\u001b[0;34m[\u001b[0m\u001b[0;36m0\u001b[0m\u001b[0;34m]\u001b[0m\u001b[0;34m:\u001b[0m\u001b[0mindlon\u001b[0m\u001b[0;34m[\u001b[0m\u001b[0;36m0\u001b[0m\u001b[0;34m]\u001b[0m\u001b[0;34m[\u001b[0m\u001b[0;34m-\u001b[0m\u001b[0;36m1\u001b[0m\u001b[0;34m]\u001b[0m\u001b[0;34m]\u001b[0m\u001b[0;34m.\u001b[0m\u001b[0msqueeze\u001b[0m\u001b[0;34m(\u001b[0m\u001b[0;34m)\u001b[0m\u001b[0;34m)\u001b[0m\u001b[0;34m)\u001b[0m\u001b[0;34m\u001b[0m\u001b[0;34m\u001b[0m\u001b[0m\n\u001b[1;32m      6\u001b[0m \u001b[0;34m\u001b[0m\u001b[0m\n",
      "\u001b[0;31mNameError\u001b[0m: name 'indlat' is not defined"
     ]
    }
   ],
   "source": [
    "sshROI  = np.ma.empty([3453, 3453])\n",
    "sstROI  = np.ma.empty([3453, 3453])\n",
    "for i in range(0,24):\n",
    "    np.hstack((sshROI, ssh[i,indlat[0][0]:indlat[0][-1],indlon[0][0]:indlon[0][-1]].squeeze()))\n",
    "    np.hstack((sstROI, sst[i,indlat[0][0]:indlat[0][-1],indlon[0][0]:indlon[0][-1]].squeeze()))\n",
    "    \n",
    "X_train = np.ma.getdata(sstROI)\n",
    "Y_train = np.ma.getdata(sshROI)\n",
    "Y_train.shape\n",
    "\n",
    "featuresTrain = torch.from_numpy(X_train[:,:20])\n",
    "targetsTrain = torch.from_numpy(Y_train[:,:20])\n",
    "targetsTrain.shape\n",
    "\n",
    "# create feature and targets tensor for test set.\n",
    "featuresTest = torch.from_numpy(Y_train[:,20:])\n",
    "targetsTest = torch.from_numpy(Y_train[:,20:]) # data type is long\n",
    "\n",
    "# batch_size, epoch and iteration\n",
    "batch_size = 2\n",
    "n_iters = 100\n",
    "num_epochs = 5\n",
    "\n",
    "# Pytorch train and test sets\n",
    "train = torch.utils.data.TensorDataset(featuresTrain,targetsTrain)\n",
    "test = torch.utils.data.TensorDataset(featuresTest,targetsTest)\n",
    "\n",
    "# data loader\n",
    "train_loader = torch.utils.data.DataLoader(train, batch_size = batch_size, shuffle = False)\n",
    "test_loader = torch.utils.data.DataLoader(test, batch_size = batch_size, shuffle = False)\n",
    "\n",
    "# Create ResNet\n",
    "net_args = {\n",
    "    \"block\": ResidualBlock,\n",
    "    \"layers\": [2, 2, 2, 2]\n",
    "}\n",
    "model = ResNet(**net_args)\n",
    "\n",
    "# Cross Entropy Loss \n",
    "error = nn.CrossEntropyLoss()\n",
    "\n",
    "# Adam Optimizer\n",
    "learning_rate = 0.05\n",
    "optimizer = torch.optim.Adam(model.parameters(), lr=learning_rate)"
   ]
  },
  {
   "cell_type": "code",
   "execution_count": 0,
   "metadata": {
    "colab": {},
    "colab_type": "code",
    "id": "34IOiKKKSgnN"
   },
   "outputs": [],
   "source": [
    "def read_data(dataset_path,X,y):\n",
    "    data = Dataset(dataset_path, \"r\", format=\"NETCDF4\")\n",
    "    #print(data.variables)\n",
    "    station = 0\n",
    "    y_var = data.variables[y][:5]\n",
    "    X_var = data.variables[X][:5]\n",
    "    X_flat = X_var.flatten()\n",
    "    print(X_var.shape[1])\n",
    "    x = np.empty(1*X_var.shape[1]*X_var.shape[2])\n",
    "    for i in range(5):\n",
    "        for j in range(X_var.shape[1]):\n",
    "            for k in range(X_var.shape[2]):\n",
    "                x = np.append(x, X_var[i][j][k])\n",
    "    \n",
    "    time_var = data.variables[\"time_counter\"]\n",
    "    jd = netCDF4.num2date(time_var[:1],time_var.units)\n",
    "    \"\"\"hs = pd.Series(X_flat[:,station],index=jd)\n",
    "    fig = plt.figure(figsize=(12,4))\n",
    "    ax = fig.add_subplot(111)\n",
    "    hs.plot(ax=ax,title='%s at %s' % (X_var.long_name,nc.id))\n",
    "    ax.set_ylabel(h.units)\"\"\"\n",
    "    "
   ]
  },
  {
   "cell_type": "code",
   "execution_count": 0,
   "metadata": {
    "colab": {},
    "colab_type": "code",
    "id": "RrI_QZW6SgnR",
    "outputId": "a88f68b6-052f-485b-962a-49a38453b861"
   },
   "outputs": [
    {
     "ename": "FileNotFoundError",
     "evalue": "[Errno 2] No such file or directory: b'/home/gambrosino/WORK/DATA/NATL60-CJM165_y2012m06d14.1h_gridT.nc'",
     "output_type": "error",
     "traceback": [
      "\u001b[0;31m---------------------------------------------------------------------------\u001b[0m",
      "\u001b[0;31mFileNotFoundError\u001b[0m                         Traceback (most recent call last)",
      "\u001b[0;32m<ipython-input-11-327860a359c7>\u001b[0m in \u001b[0;36m<module>\u001b[0;34m\u001b[0m\n\u001b[0;32m----> 1\u001b[0;31m \u001b[0mread_data\u001b[0m\u001b[0;34m(\u001b[0m\u001b[0;34m\"/home/gambrosino/WORK/DATA/NATL60-CJM165_y2012m06d14.1h_gridT.nc\"\u001b[0m\u001b[0;34m,\u001b[0m\u001b[0;34m\"sosstsst\"\u001b[0m\u001b[0;34m,\u001b[0m\u001b[0;34m\"sossheig\"\u001b[0m\u001b[0;34m)\u001b[0m\u001b[0;34m\u001b[0m\u001b[0;34m\u001b[0m\u001b[0m\n\u001b[0m",
      "\u001b[0;32m<ipython-input-10-6bccf53032d7>\u001b[0m in \u001b[0;36mread_data\u001b[0;34m(dataset_path, X, y)\u001b[0m\n\u001b[1;32m      1\u001b[0m \u001b[0;32mdef\u001b[0m \u001b[0mread_data\u001b[0m\u001b[0;34m(\u001b[0m\u001b[0mdataset_path\u001b[0m\u001b[0;34m,\u001b[0m\u001b[0mX\u001b[0m\u001b[0;34m,\u001b[0m\u001b[0my\u001b[0m\u001b[0;34m)\u001b[0m\u001b[0;34m:\u001b[0m\u001b[0;34m\u001b[0m\u001b[0;34m\u001b[0m\u001b[0m\n\u001b[0;32m----> 2\u001b[0;31m     \u001b[0mdata\u001b[0m \u001b[0;34m=\u001b[0m \u001b[0mDataset\u001b[0m\u001b[0;34m(\u001b[0m\u001b[0mdataset_path\u001b[0m\u001b[0;34m,\u001b[0m \u001b[0;34m\"r\"\u001b[0m\u001b[0;34m,\u001b[0m \u001b[0mformat\u001b[0m\u001b[0;34m=\u001b[0m\u001b[0;34m\"NETCDF4\"\u001b[0m\u001b[0;34m)\u001b[0m\u001b[0;34m\u001b[0m\u001b[0;34m\u001b[0m\u001b[0m\n\u001b[0m\u001b[1;32m      3\u001b[0m     \u001b[0;31m#print(data.variables)\u001b[0m\u001b[0;34m\u001b[0m\u001b[0;34m\u001b[0m\u001b[0;34m\u001b[0m\u001b[0m\n\u001b[1;32m      4\u001b[0m     \u001b[0mstation\u001b[0m \u001b[0;34m=\u001b[0m \u001b[0;36m0\u001b[0m\u001b[0;34m\u001b[0m\u001b[0;34m\u001b[0m\u001b[0m\n\u001b[1;32m      5\u001b[0m     \u001b[0my_var\u001b[0m \u001b[0;34m=\u001b[0m \u001b[0mdata\u001b[0m\u001b[0;34m.\u001b[0m\u001b[0mvariables\u001b[0m\u001b[0;34m[\u001b[0m\u001b[0my\u001b[0m\u001b[0;34m]\u001b[0m\u001b[0;34m[\u001b[0m\u001b[0;34m:\u001b[0m\u001b[0;36m5\u001b[0m\u001b[0;34m]\u001b[0m\u001b[0;34m\u001b[0m\u001b[0;34m\u001b[0m\u001b[0m\n",
      "\u001b[0;32mnetCDF4/_netCDF4.pyx\u001b[0m in \u001b[0;36mnetCDF4._netCDF4.Dataset.__init__\u001b[0;34m()\u001b[0m\n",
      "\u001b[0;32mnetCDF4/_netCDF4.pyx\u001b[0m in \u001b[0;36mnetCDF4._netCDF4._ensure_nc_success\u001b[0;34m()\u001b[0m\n",
      "\u001b[0;31mFileNotFoundError\u001b[0m: [Errno 2] No such file or directory: b'/home/gambrosino/WORK/DATA/NATL60-CJM165_y2012m06d14.1h_gridT.nc'"
     ]
    }
   ],
   "source": [
    "read_data(\"/home/gambrosino/WORK/DATA/NATL60-CJM165_y2012m06d14.1h_gridT.nc\",\"sosstsst\",\"sossheig\")"
   ]
  },
  {
   "cell_type": "code",
   "execution_count": 0,
   "metadata": {
    "colab": {},
    "colab_type": "code",
    "id": "xtHNtyzkSgnW"
   },
   "outputs": [],
   "source": []
  },
  {
   "cell_type": "code",
   "execution_count": 0,
   "metadata": {
    "colab": {
     "base_uri": "https://localhost:8080/",
     "height": 1000
    },
    "colab_type": "code",
    "id": "Ee86mztfSgmz",
    "outputId": "bd86c6ea-84f9-443e-d159-a0fc8d59b8de"
   },
   "outputs": [
    {
     "name": "stdout",
     "output_type": "stream",
     "text": [
      "odict_keys(['lon', 'lat', 'time', 'SST', 'SSH', 'U', 'V', 'SLA'])\n",
      "('lon', <class 'netCDF4._netCDF4.Dimension'>: name = 'lon', size = 1440)\n",
      "('lat', <class 'netCDF4._netCDF4.Dimension'>: name = 'lat', size = 720)\n",
      "('time', <class 'netCDF4._netCDF4.Dimension'> (unlimited): name = 'time', size = 366)\n"
     ]
    },
    {
     "data": {
      "text/plain": [
       "masked_array(data=[7.258032e+08, 7.258896e+08, 7.259760e+08, 7.260624e+08,\n",
       "                   7.261488e+08, 7.262352e+08, 7.263216e+08, 7.264080e+08,\n",
       "                   7.264944e+08, 7.265808e+08, 7.266672e+08, 7.267536e+08,\n",
       "                   7.268400e+08, 7.269264e+08, 7.270128e+08, 7.270992e+08,\n",
       "                   7.271856e+08, 7.272720e+08, 7.273584e+08, 7.274448e+08,\n",
       "                   7.275312e+08, 7.276176e+08, 7.277040e+08, 7.277904e+08,\n",
       "                   7.278768e+08, 7.279632e+08, 7.280496e+08, 7.281360e+08,\n",
       "                   7.282224e+08, 7.283088e+08, 7.283952e+08, 7.284816e+08,\n",
       "                   7.285680e+08, 7.286544e+08, 7.287408e+08, 7.288272e+08,\n",
       "                   7.289136e+08, 7.290000e+08, 7.290864e+08, 7.291728e+08,\n",
       "                   7.292592e+08, 7.293456e+08, 7.294320e+08, 7.295184e+08,\n",
       "                   7.296048e+08, 7.296912e+08, 7.297776e+08, 7.298640e+08,\n",
       "                   7.299504e+08, 7.300368e+08, 7.301232e+08, 7.302096e+08,\n",
       "                   7.302960e+08, 7.303824e+08, 7.304688e+08, 7.305552e+08,\n",
       "                   7.306416e+08, 7.307280e+08, 7.308144e+08, 7.309008e+08,\n",
       "                   7.309872e+08, 7.310736e+08, 7.311600e+08, 7.312464e+08,\n",
       "                   7.313328e+08, 7.314192e+08, 7.315056e+08, 7.315920e+08,\n",
       "                   7.316784e+08, 7.317648e+08, 7.318512e+08, 7.319376e+08,\n",
       "                   7.320240e+08, 7.321104e+08, 7.321968e+08, 7.322832e+08,\n",
       "                   7.323696e+08, 7.324560e+08, 7.325424e+08, 7.326288e+08,\n",
       "                   7.327152e+08, 7.328016e+08, 7.328880e+08, 7.329744e+08,\n",
       "                   7.330608e+08, 7.331472e+08, 7.332336e+08, 7.333200e+08,\n",
       "                   7.334064e+08, 7.334928e+08, 7.335792e+08, 7.336656e+08,\n",
       "                   7.337520e+08, 7.338384e+08, 7.339248e+08, 7.340112e+08,\n",
       "                   7.340976e+08, 7.341840e+08, 7.342704e+08, 7.343568e+08,\n",
       "                   7.344432e+08, 7.345296e+08, 7.346160e+08, 7.347024e+08,\n",
       "                   7.347888e+08, 7.348752e+08, 7.349616e+08, 7.350480e+08,\n",
       "                   7.351344e+08, 7.352208e+08, 7.353072e+08, 7.353936e+08,\n",
       "                   7.354800e+08, 7.355664e+08, 7.356528e+08, 7.357392e+08,\n",
       "                   7.358256e+08, 7.359120e+08, 7.359984e+08, 7.360848e+08,\n",
       "                   7.361712e+08, 7.362576e+08, 7.363440e+08, 7.364304e+08,\n",
       "                   7.365168e+08, 7.366032e+08, 7.366896e+08, 7.367760e+08,\n",
       "                   7.368624e+08, 7.369488e+08, 7.370352e+08, 7.371216e+08,\n",
       "                   7.372080e+08, 7.372944e+08, 7.373808e+08, 7.374672e+08,\n",
       "                   7.375536e+08, 7.376400e+08, 7.377264e+08, 7.378128e+08,\n",
       "                   7.378992e+08, 7.379856e+08, 7.380720e+08, 7.381584e+08,\n",
       "                   7.382448e+08, 7.383312e+08, 7.384176e+08, 7.385040e+08,\n",
       "                   7.385904e+08, 7.386768e+08, 7.387632e+08, 7.388496e+08,\n",
       "                   7.389360e+08, 7.390224e+08, 7.391088e+08, 7.391952e+08,\n",
       "                   7.392816e+08, 7.393680e+08, 7.394544e+08, 7.395408e+08,\n",
       "                   7.396272e+08, 7.397136e+08, 7.398000e+08, 7.398864e+08,\n",
       "                   7.399728e+08, 7.400592e+08, 7.401456e+08, 7.402320e+08,\n",
       "                   7.403184e+08, 7.404048e+08, 7.404912e+08, 7.405776e+08,\n",
       "                   7.406640e+08, 7.407504e+08, 7.408368e+08, 7.409232e+08,\n",
       "                   7.410096e+08, 7.410960e+08, 7.411824e+08, 7.412688e+08,\n",
       "                   7.413552e+08, 7.414416e+08, 7.415280e+08, 7.416144e+08,\n",
       "                   7.417008e+08, 7.417872e+08, 7.418736e+08, 7.419600e+08,\n",
       "                   7.420464e+08, 7.421328e+08, 7.422192e+08, 7.423056e+08,\n",
       "                   7.423920e+08, 7.424784e+08, 7.425648e+08, 7.426512e+08,\n",
       "                   7.427376e+08, 7.428240e+08, 7.429104e+08, 7.429968e+08,\n",
       "                   7.430832e+08, 7.431696e+08, 7.432560e+08, 7.433424e+08,\n",
       "                   7.434288e+08, 7.435152e+08, 7.436016e+08, 7.436880e+08,\n",
       "                   7.437744e+08, 7.438608e+08, 7.439472e+08, 7.440336e+08,\n",
       "                   7.441200e+08, 7.442064e+08, 7.442928e+08, 7.443792e+08,\n",
       "                   7.444656e+08, 7.445520e+08, 7.446384e+08, 7.447248e+08,\n",
       "                   7.448112e+08, 7.448976e+08, 7.449840e+08, 7.450704e+08,\n",
       "                   7.451568e+08, 7.452432e+08, 7.453296e+08, 7.454160e+08,\n",
       "                   7.455024e+08, 7.455888e+08, 7.456752e+08, 0.000000e+00,\n",
       "                   0.000000e+00, 0.000000e+00, 0.000000e+00, 0.000000e+00,\n",
       "                   0.000000e+00, 0.000000e+00, 0.000000e+00, 0.000000e+00,\n",
       "                   0.000000e+00, 0.000000e+00, 0.000000e+00, 0.000000e+00,\n",
       "                   0.000000e+00, 0.000000e+00, 0.000000e+00, 0.000000e+00,\n",
       "                   0.000000e+00, 0.000000e+00, 0.000000e+00, 0.000000e+00,\n",
       "                   0.000000e+00, 0.000000e+00, 0.000000e+00, 0.000000e+00,\n",
       "                   0.000000e+00, 0.000000e+00, 0.000000e+00, 0.000000e+00,\n",
       "                   0.000000e+00, 0.000000e+00, 0.000000e+00, 0.000000e+00,\n",
       "                   0.000000e+00, 0.000000e+00, 0.000000e+00, 0.000000e+00,\n",
       "                   0.000000e+00, 0.000000e+00, 0.000000e+00, 0.000000e+00,\n",
       "                   0.000000e+00, 0.000000e+00, 0.000000e+00, 0.000000e+00,\n",
       "                   0.000000e+00, 0.000000e+00, 0.000000e+00, 0.000000e+00,\n",
       "                   0.000000e+00, 0.000000e+00, 0.000000e+00, 0.000000e+00,\n",
       "                   0.000000e+00, 0.000000e+00, 0.000000e+00, 0.000000e+00,\n",
       "                   0.000000e+00, 0.000000e+00, 0.000000e+00, 0.000000e+00,\n",
       "                   0.000000e+00, 0.000000e+00, 0.000000e+00, 0.000000e+00,\n",
       "                   0.000000e+00, 0.000000e+00, 0.000000e+00, 0.000000e+00,\n",
       "                   0.000000e+00, 0.000000e+00, 0.000000e+00, 0.000000e+00,\n",
       "                   0.000000e+00, 0.000000e+00, 0.000000e+00, 0.000000e+00,\n",
       "                   0.000000e+00, 0.000000e+00, 0.000000e+00, 0.000000e+00,\n",
       "                   0.000000e+00, 0.000000e+00, 0.000000e+00, 0.000000e+00,\n",
       "                   0.000000e+00, 0.000000e+00, 0.000000e+00, 0.000000e+00,\n",
       "                   0.000000e+00, 0.000000e+00, 0.000000e+00, 0.000000e+00,\n",
       "                   0.000000e+00, 0.000000e+00, 0.000000e+00, 0.000000e+00,\n",
       "                   0.000000e+00, 0.000000e+00, 0.000000e+00, 0.000000e+00,\n",
       "                   0.000000e+00, 0.000000e+00, 0.000000e+00, 0.000000e+00,\n",
       "                   0.000000e+00, 0.000000e+00, 0.000000e+00, 0.000000e+00,\n",
       "                   0.000000e+00, 0.000000e+00, 0.000000e+00, 0.000000e+00,\n",
       "                   0.000000e+00, 0.000000e+00, 0.000000e+00, 0.000000e+00,\n",
       "                   0.000000e+00, 0.000000e+00, 0.000000e+00, 0.000000e+00,\n",
       "                   0.000000e+00, 0.000000e+00, 0.000000e+00, 0.000000e+00,\n",
       "                   0.000000e+00, 0.000000e+00, 0.000000e+00, 0.000000e+00,\n",
       "                   0.000000e+00, 0.000000e+00, 0.000000e+00, 0.000000e+00,\n",
       "                   0.000000e+00, 0.000000e+00],\n",
       "             mask=False,\n",
       "       fill_value=1e+20)"
      ]
     },
     "execution_count": 12,
     "metadata": {
      "tags": []
     },
     "output_type": "execute_result"
    }
   ],
   "source": [
    "print(rootgrp.variables.keys())\n",
    "ssh = rootgrp.variables[\"SSH\"][:]\n",
    "sst = rootgrp.variables[\"SST\"][:]\n",
    "time_var = rootgrp.variables[\"time\"]\n",
    "lat_var, lon_var = rootgrp.variables['lat'], rootgrp.variables['lon']\n",
    "for d in rootgrp.dimensions.items():\n",
    "    print(d)\n",
    "lat = lat_var[:]\n",
    "lon = lon_var[:]\n",
    "time = time_var[:]\n",
    "time"
   ]
  }
 ],
 "metadata": {
  "colab": {
   "collapsed_sections": [],
   "machine_shape": "hm",
   "name": "CompNet_05_02_2020.ipynb",
   "provenance": []
  },
  "kernelspec": {
   "display_name": "pangeo_cloud",
   "language": "python",
   "name": "pangeo-cloud"
  },
  "language_info": {
   "codemirror_mode": {
    "name": "ipython",
    "version": 3
   },
   "file_extension": ".py",
   "mimetype": "text/x-python",
   "name": "python",
   "nbconvert_exporter": "python",
   "pygments_lexer": "ipython3",
   "version": "3.6.7"
  }
 },
 "nbformat": 4,
 "nbformat_minor": 1
}
